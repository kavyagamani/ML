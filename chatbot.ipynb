{
 "cells": [
  {
   "cell_type": "code",
   "execution_count": 3,
   "id": "eea46b33-8cb8-4622-a9f3-5bea0cdc4c69",
   "metadata": {},
   "outputs": [
    {
     "name": "stdout",
     "output_type": "stream",
     "text": [
      "   University_ID             University_Name              Location  \\\n",
      "0              1  BMS College of Engineering  Bangalore, Karnataka   \n",
      "1              2           Christ University  Bangalore, Karnataka   \n",
      "2              3             Jain University  Bangalore, Karnataka   \n",
      "3              4              PES University  Bangalore, Karnataka   \n",
      "4              5   RV College of Engineering  Bangalore, Karnataka   \n",
      "\n",
      "                    Website  \n",
      "0           www.bmsce.ac.in  \n",
      "1   www.christuniversity.in  \n",
      "2  www.jainuniversity.ac.in  \n",
      "3               www.pes.edu  \n",
      "4           www.rvce.edu.in  \n",
      "   Course_ID  University_ID Course_Name  Category_Gen  Category_OBC  \\\n",
      "0        101              1         MCA            70            65   \n",
      "1        102              1         BCA            65            60   \n",
      "2        201              2         MBA            75            70   \n",
      "3        202              2         BCA            65            60   \n",
      "4        301              3         MCA            68            63   \n",
      "\n",
      "   Category_SC  Category_ST  Fee_Per_Year Avg_Placement  Seats  \n",
      "0           60           55        120000         6 LPA     60  \n",
      "1           55           50        100000         5 LPA     50  \n",
      "2           65           60        150000         8 LPA     80  \n",
      "3           55           50        125000       5.5 LPA     50  \n",
      "4           58           53        110000       5.8 LPA     55  \n"
     ]
    }
   ],
   "source": [
    "import pandas as pd\n",
    "\n",
    "# Load Excel file\n",
    "file_path = \"MultiUniversity_Admission_Chatbot.xlsx\"\n",
    "universities_df = pd.read_excel(file_path, sheet_name=\"Universities\")\n",
    "courses_df = pd.read_excel(file_path, sheet_name=\"Courses\")\n",
    "\n",
    "# View sample data\n",
    "print(universities_df.head())\n",
    "print(courses_df.head())\n"
   ]
  },
  {
   "cell_type": "code",
   "execution_count": 2,
   "id": "99b8efe4-f4ae-4b02-bf3f-773533fc23d2",
   "metadata": {},
   "outputs": [
    {
     "name": "stdout",
     "output_type": "stream",
     "text": [
      "Collecting openpyxl\n",
      "  Downloading openpyxl-3.1.5-py2.py3-none-any.whl (250 kB)\n",
      "     -------------------------------------- 250.9/250.9 kB 3.1 MB/s eta 0:00:00\n",
      "Collecting et-xmlfile\n",
      "  Downloading et_xmlfile-2.0.0-py3-none-any.whl (18 kB)\n",
      "Installing collected packages: et-xmlfile, openpyxl\n",
      "Successfully installed et-xmlfile-2.0.0 openpyxl-3.1.5\n",
      "Note: you may need to restart the kernel to use updated packages.\n"
     ]
    },
    {
     "name": "stderr",
     "output_type": "stream",
     "text": [
      "\n",
      "[notice] A new release of pip available: 22.3.1 -> 25.2\n",
      "[notice] To update, run: python.exe -m pip install --upgrade pip\n"
     ]
    }
   ],
   "source": [
    "pip install openpyxl\n"
   ]
  },
  {
   "cell_type": "code",
   "execution_count": 5,
   "id": "f0a69038-3161-4d44-a3f1-86ed0fe1227a",
   "metadata": {},
   "outputs": [],
   "source": [
    "# Sample: create training dataset\n",
    "training_data = []\n",
    "\n",
    "categories = [\"Gen\", \"OBC\", \"SC\", \"ST\"]\n",
    "\n",
    "for index, row in courses_df.iterrows():\n",
    "    for cat in categories:\n",
    "        # For training, simulate marks slightly above cutoff as eligible\n",
    "        training_data.append({\n",
    "            \"Marks\": row[f\"Category_{cat}\"] + 5,  # example marks\n",
    "            \"Category\": cat,\n",
    "            \"Income_Range\": 3,  # 1=<2L,2=2-5L,3=>5L (optional)\n",
    "            \"Course_ID\": row[\"Course_ID\"]\n",
    "        })\n",
    "\n",
    "train_df = pd.DataFrame(training_data)\n",
    "\n",
    "# Encode Category as numeric\n",
    "train_df[\"Category_Code\"] = train_df[\"Category\"].map({\"Gen\":0,\"OBC\":1,\"SC\":2,\"ST\":3})\n",
    "\n",
    "# Features and target\n",
    "X = train_df[[\"Marks\", \"Category_Code\", \"Income_Range\"]]\n",
    "y = train_df[\"Course_ID\"]\n"
   ]
  },
  {
   "cell_type": "code",
   "execution_count": 6,
   "id": "86058f8c-3e44-4497-8e71-4993c0225541",
   "metadata": {},
   "outputs": [
    {
     "name": "stdout",
     "output_type": "stream",
     "text": [
      "Model trained successfully!\n"
     ]
    }
   ],
   "source": [
    "from sklearn.tree import DecisionTreeClassifier\n",
    "\n",
    "# Initialize classifier\n",
    "clf = DecisionTreeClassifier()\n",
    "\n",
    "# Train model\n",
    "clf.fit(X, y)\n",
    "\n",
    "print(\"Model trained successfully!\")\n"
   ]
  },
  {
   "cell_type": "code",
   "execution_count": 9,
   "id": "10b71d7c-3694-4b05-98af-cf1cb4a8d745",
   "metadata": {},
   "outputs": [
    {
     "name": "stdout",
     "output_type": "stream",
     "text": [
      "Recommended Course: MCA\n",
      "University: Jain University\n",
      "Fee: 110000\n",
      "Placement: 5.8 LPA\n"
     ]
    },
    {
     "name": "stderr",
     "output_type": "stream",
     "text": [
      "C:\\Users\\hp\\AppData\\Local\\Programs\\Python\\Python311\\Lib\\site-packages\\sklearn\\utils\\validation.py:2739: UserWarning: X does not have valid feature names, but DecisionTreeClassifier was fitted with feature names\n",
      "  warnings.warn(\n"
     ]
    }
   ],
   "source": [
    "# Example student input\n",
    "student_marks = 68\n",
    "student_category = \"OBC\"\n",
    "student_income_range = 2  # 1=<2L,2=2-5L,3=>5L\n",
    "\n",
    "# Encode category\n",
    "category_code = {\"Gen\":0,\"OBC\":1,\"SC\":2,\"ST\":3}[student_category]\n",
    "\n",
    "# Predict\n",
    "predicted_course_id = clf.predict([[student_marks, category_code, student_income_range]])\n",
    "\n",
    "# Get course details\n",
    "course_info = courses_df[courses_df[\"Course_ID\"] == predicted_course_id[0]]\n",
    "university_info = universities_df[universities_df[\"University_ID\"] == course_info[\"University_ID\"].values[0]]\n",
    "\n",
    "print(\"Recommended Course:\", course_info[\"Course_Name\"].values[0])\n",
    "print(\"University:\", university_info[\"University_Name\"].values[0])\n",
    "print(\"Fee:\", course_info[\"Fee_Per_Year\"].values[0])\n",
    "print(\"Placement:\", course_info[\"Avg_Placement\"].values[0])\n"
   ]
  },
  {
   "cell_type": "code",
   "execution_count": null,
   "id": "7f445527-5c4e-4364-87b8-22779b09c979",
   "metadata": {},
   "outputs": [],
   "source": []
  }
 ],
 "metadata": {
  "kernelspec": {
   "display_name": "Python 3 (ipykernel)",
   "language": "python",
   "name": "python3"
  },
  "language_info": {
   "codemirror_mode": {
    "name": "ipython",
    "version": 3
   },
   "file_extension": ".py",
   "mimetype": "text/x-python",
   "name": "python",
   "nbconvert_exporter": "python",
   "pygments_lexer": "ipython3",
   "version": "3.11.2"
  }
 },
 "nbformat": 4,
 "nbformat_minor": 5
}
